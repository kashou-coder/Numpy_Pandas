Задание 1
Импортируйте библиотеки pandas и numpy.
Загрузите "Boston House Prices dataset" из встроенных наборов данных библиотеки sklearn. 

import pandas as pd
import numpy as np

from sklearn.datasets import load_boston

Создайте датафреймы X и y из этих данных.

boston = load_boston()
boston

boston.keys()

data = boston.data
data

target = boston.target
target

feature_names = boston.feature_names
feature_names

X = pd.DataFrame(data, columns=feature_names)
X

y = pd.DataFrame(target, columns=['prices'])
y

Разбейте эти датафреймы на тренировочные (X_train, y_train) и тестовые (X_test, y_test) с помощью функции train_test_split так, чтобы размер тестовой выборки
составлял 30% от всех данных, при этом аргумент random_state должен быть равен 42.
Создайте модель линейной регрессии под названием lr с помощью класса LinearRegression из модуля sklearn.linear_model.
Обучите модель на тренировочных данных (используйте все признаки) и сделайте предсказание на тестовых.
Вычислите R2 полученных предказаний с помощью r2_score из модуля sklearn.metrics.

from sklearn.model_selection import train_test_split

x_train, x_test, y_train, y_test = train_test_split(x, y, test_size=0.3, random_state=42) 

from sklearn.linear_model import LinearRegression

lr = LinearRegression()
lr

lr.fit(x_train, y_train)

y_pred = lr.predict(x_test)
y_pred

check_test = pd.DataFrame({'y_test' : y_test['prices'],
                          'y_pred' : y_pred.flatten()})
check_test.head(10)

from sklearn.metrics import mean_squared_error 

initial_mse = mean_squared_error(y_test, y_pred)
initial_mse

from sklearn.metrics import mean_absolute_error

mean_absolute_error(y_test, y_pred)

from sklearn.metrics import r2_score

r2_score(y_test, y_pred)

Задание 2
Создайте модель под названием model с помощью RandomForestRegressor из модуля sklearn.ensemble.
Сделайте агрумент n_estimators равным 1000,
max_depth должен быть равен 12 и random_state сделайте равным 42.
Обучите модель на тренировочных данных аналогично тому, как вы обучали модель LinearRegression,
но при этом в метод fit вместо датафрейма y_train поставьте y_train.values[:, 0],
чтобы получить из датафрейма одномерный массив Numpy,
так как для класса RandomForestRegressor в данном методе для аргумента y предпочтительно применение массивов вместо датафрейма.
Сделайте предсказание на тестовых данных и посчитайте R2. Сравните с результатом из предыдущего задания.
Напишите в комментариях к коду, какая модель в данном случае работает лучше.

from sklearn.ensemble import RandomForestRegressor

from sklearn.model_selection import GridSearchCV

param = {'n_estimators' : [1000],
        'max_depth' : [12],
        'random_state' : [42]}

clf = GridSearchCV(
    estimator=RandomForestRegressor(),
    param_grid=param,
    cv=5,
)



